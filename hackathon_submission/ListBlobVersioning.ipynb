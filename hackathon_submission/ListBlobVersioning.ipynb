{
 "cells": [
  {
   "cell_type": "code",
   "execution_count": 18,
   "metadata": {},
   "outputs": [],
   "source": [
    "from azure.storage.blob import BlobServiceClient\n",
    "from azure.storage.blob import ContainerClient\n",
    "from azure.core.exceptions import ResourceExistsError\n",
    "import uuid\n",
    "import os"
   ]
  },
  {
   "cell_type": "code",
   "execution_count": 3,
   "metadata": {},
   "outputs": [],
   "source": [
    "connect_str = 'DefaultEndpointsProtocol=https;AccountName=amlankusum1;AccountKey=gOLl/rmuyjngvRl++9OAww0q1zjPDH6OPw7rsRVFdRdhmhhYh9L36VckhRVKKOTBXmCoLo5/4WXI6OvAwgsCNg==;EndpointSuffix=core.windows.net'"
   ]
  },
  {
   "cell_type": "code",
   "execution_count": 4,
   "metadata": {},
   "outputs": [],
   "source": [
    "blob_service_client = BlobServiceClient.from_connection_string(connect_str)"
   ]
  },
  {
   "cell_type": "code",
   "execution_count": 15,
   "metadata": {},
   "outputs": [],
   "source": [
    "container_name = 'cont1'"
   ]
  },
  {
   "cell_type": "code",
   "execution_count": 19,
   "metadata": {},
   "outputs": [
    {
     "name": "stdout",
     "output_type": "stream",
     "text": [
      "Container already exists.\n"
     ]
    }
   ],
   "source": [
    "try:\n",
    "    blob_service_client.create_container(container_name)\n",
    "except ResourceExistsError:\n",
    "    print('Container already exists.')"
   ]
  },
  {
   "cell_type": "code",
   "execution_count": 20,
   "metadata": {},
   "outputs": [
    {
     "data": {
      "text/plain": [
       "'cont1'"
      ]
     },
     "execution_count": 20,
     "metadata": {},
     "output_type": "execute_result"
    }
   ],
   "source": [
    "container_name"
   ]
  },
  {
   "cell_type": "code",
   "execution_count": 22,
   "metadata": {},
   "outputs": [
    {
     "name": "stdout",
     "output_type": "stream",
     "text": [
      "\n",
      "Uploading to Azure Storage as blob:\n",
      "\tfile1.txt\n"
     ]
    }
   ],
   "source": [
    "# Create a local directory to hold blob data\n",
    "local_path = \"./data\"\n",
    "\n",
    "# Create a file in the local data directory to upload and download\n",
    "local_file_name =  \"file1.txt\"\n",
    "upload_file_path = os.path.join(local_path, local_file_name)\n",
    "\n",
    "# Write text to the file\n",
    "file = open(upload_file_path, 'w')\n",
    "file.write(\"Hello, World!\")\n",
    "file.close()\n",
    "\n",
    "# Create a blob client using the local file name as the name for the blob\n",
    "blob_client = blob_service_client.get_blob_client(container=container_name, blob=local_file_name)\n",
    "\n",
    "print(\"\\nUploading to Azure Storage as blob:\\n\\t\" + local_file_name)\n",
    "\n",
    "# Upload the created file\n",
    "with open(upload_file_path, \"rb\") as data:\n",
    "    blob_client.upload_blob(data)"
   ]
  },
  {
   "cell_type": "code",
   "execution_count": 23,
   "metadata": {},
   "outputs": [],
   "source": [
    "blob_client = blob_service_client.get_blob_client(container=container_name, blob=local_file_name)"
   ]
  },
  {
   "cell_type": "code",
   "execution_count": 25,
   "metadata": {},
   "outputs": [
    {
     "data": {
      "text/plain": [
       "{'etag': '\"0x8D8C979D548E0D8\"',\n",
       " 'last_modified': datetime.datetime(2021, 2, 5, 2, 0, 37, tzinfo=datetime.timezone.utc),\n",
       " 'client_request_id': 'f17d060c-6755-11eb-864c-c8348e60dac0',\n",
       " 'request_id': '7c1652af-901e-0047-5262-fbe5b9000000',\n",
       " 'version': '2020-04-08',\n",
       " 'version_id': '2021-02-05T02:00:37.9484136Z',\n",
       " 'date': datetime.datetime(2021, 2, 5, 2, 0, 37, tzinfo=datetime.timezone.utc),\n",
       " 'request_server_encrypted': True,\n",
       " 'encryption_key_sha256': None,\n",
       " 'encryption_scope': None}"
      ]
     },
     "execution_count": 25,
     "metadata": {},
     "output_type": "execute_result"
    }
   ],
   "source": [
    "blob_client.set_blob_metadata(metadata={'metadata1': '1111'})"
   ]
  },
  {
   "cell_type": "code",
   "execution_count": 26,
   "metadata": {},
   "outputs": [
    {
     "data": {
      "text/plain": [
       "{'etag': '\"0x8D8C9A459379ABC\"',\n",
       " 'last_modified': datetime.datetime(2021, 2, 5, 7, 4, 58, tzinfo=datetime.timezone.utc),\n",
       " 'client_request_id': '74c1132d-6780-11eb-96f8-c8348e60dac0',\n",
       " 'request_id': '9cd9b588-101e-009a-288d-fbb617000000',\n",
       " 'version': '2020-04-08',\n",
       " 'version_id': '2021-02-05T07:04:58.1581027Z',\n",
       " 'date': datetime.datetime(2021, 2, 5, 7, 4, 57, tzinfo=datetime.timezone.utc),\n",
       " 'request_server_encrypted': True,\n",
       " 'encryption_key_sha256': None,\n",
       " 'encryption_scope': None}"
      ]
     },
     "execution_count": 26,
     "metadata": {},
     "output_type": "execute_result"
    }
   ],
   "source": [
    "blob_client.set_blob_metadata(metadata={'metadata1': '2222'})"
   ]
  },
  {
   "cell_type": "code",
   "execution_count": 29,
   "metadata": {},
   "outputs": [],
   "source": [
    "cont_client = blob_service_client.get_container_client(container_name)"
   ]
  },
  {
   "cell_type": "code",
   "execution_count": 45,
   "metadata": {},
   "outputs": [],
   "source": [
    "page_items = cont_client.list_blobs()"
   ]
  },
  {
   "cell_type": "code",
   "execution_count": 59,
   "metadata": {},
   "outputs": [
    {
     "name": "stdout",
     "output_type": "stream",
     "text": [
      "file1.txt - 2021-02-05T02:00:37.9484136Z - None\n",
      "file1.txt - 2021-02-05T07:04:58.1581027Z - True\n"
     ]
    }
   ],
   "source": [
    "\n",
    "cont_client = blob_service_client.get_container_client(container_name)\n",
    "page_items = cont_client.list_blobs(include = ['versions'])\n",
    "\n",
    "for blobs_name in page_items:\n",
    "    print(blobs_name.name + ' - '+ blobs_name.version_id + ' - ' + str(blobs_name.is_current_version))"
   ]
  },
  {
   "cell_type": "code",
   "execution_count": 47,
   "metadata": {},
   "outputs": [
    {
     "data": {
      "text/plain": [
       "{'name': 'file1.txt', 'container': 'cont1', 'snapshot': None, 'version_id': '2021-02-05T07:04:58.1581027Z', 'is_current_version': True, 'blob_type': <BlobType.BlockBlob: 'BlockBlob'>, 'metadata': {'metadata1': '2222'}, 'encrypted_metadata': None, 'last_modified': datetime.datetime(2021, 2, 5, 7, 4, 58, tzinfo=datetime.timezone.utc), 'etag': '\"0x8D8C9A459379ABC\"', 'size': 13, 'content_range': None, 'append_blob_committed_block_count': None, 'is_append_blob_sealed': None, 'page_blob_sequence_number': None, 'server_encrypted': True, 'copy': {'id': None, 'source': None, 'status': None, 'progress': None, 'completion_time': None, 'status_description': None, 'incremental_copy': None, 'destination_snapshot': None}, 'content_settings': {'content_type': 'application/octet-stream', 'content_encoding': None, 'content_language': None, 'content_md5': bytearray(b'e\\xa8\\xe2}\\x88y(81\\xb6d\\xbd\\x8b\\x7f\\n\\xd4'), 'content_disposition': None, 'cache_control': None}, 'lease': {'status': 'unlocked', 'state': 'available', 'duration': None}, 'blob_tier': 'Hot', 'rehydrate_priority': None, 'blob_tier_change_time': None, 'blob_tier_inferred': True, 'deleted': False, 'deleted_time': None, 'remaining_retention_days': None, 'creation_time': datetime.datetime(2021, 2, 4, 23, 0, 25, tzinfo=datetime.timezone.utc), 'archive_status': None, 'encryption_key_sha256': None, 'encryption_scope': None, 'request_server_encrypted': True, 'object_replication_source_properties': [], 'object_replication_destination_policy': None, 'last_accessed_on': None, 'tag_count': None, 'tags': None}"
      ]
     },
     "execution_count": 47,
     "metadata": {},
     "output_type": "execute_result"
    }
   ],
   "source": [
    "blob_client.get_blob_properties()"
   ]
  },
  {
   "cell_type": "code",
   "execution_count": 58,
   "metadata": {},
   "outputs": [],
   "source": [
    "cont_client.delete_blob(blob='file1.txt', version_id='2021-02-04T23:00:25.4746978Z')"
   ]
  },
  {
   "cell_type": "code",
   "execution_count": null,
   "metadata": {},
   "outputs": [],
   "source": []
  }
 ],
 "metadata": {
  "kernelspec": {
   "display_name": "Python 3",
   "language": "python",
   "name": "python3"
  },
  "language_info": {
   "codemirror_mode": {
    "name": "ipython",
    "version": 3
   },
   "file_extension": ".py",
   "mimetype": "text/x-python",
   "name": "python",
   "nbconvert_exporter": "python",
   "pygments_lexer": "ipython3",
   "version": "3.9.0"
  }
 },
 "nbformat": 4,
 "nbformat_minor": 4
}
